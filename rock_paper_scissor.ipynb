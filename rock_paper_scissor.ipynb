{
  "nbformat": 4,
  "nbformat_minor": 0,
  "metadata": {
    "colab": {
      "provenance": [],
      "authorship_tag": "ABX9TyPKMcbyNtD5Jn7XQmwFDv99",
      "include_colab_link": true
    },
    "kernelspec": {
      "name": "python3",
      "display_name": "Python 3"
    },
    "language_info": {
      "name": "python"
    }
  },
  "cells": [
    {
      "cell_type": "markdown",
      "metadata": {
        "id": "view-in-github",
        "colab_type": "text"
      },
      "source": [
        "<a href=\"https://colab.research.google.com/github/Parteek-yadav/Prateek-code/blob/main/rock_paper_scissor.ipynb\" target=\"_parent\"><img src=\"https://colab.research.google.com/assets/colab-badge.svg\" alt=\"Open In Colab\"/></a>"
      ]
    },
    {
      "cell_type": "code",
      "execution_count": 12,
      "metadata": {
        "colab": {
          "base_uri": "https://localhost:8080/"
        },
        "id": "xpbJWhAnxKKe",
        "outputId": "4ef66053-2ab5-4833-9326-34015eba485a"
      },
      "outputs": [
        {
          "output_type": "stream",
          "name": "stdout",
          "text": [
            "enter your choice : paper\n",
            "computer choice :  rock\n",
            "your choice :  paper\n",
            "you win\n"
          ]
        }
      ],
      "source": [
        "import random\n",
        "computer = random.choice([-1,0,1])\n",
        "yourchoice = input(\"enter your choice : \")\n",
        "dict = {\"rock\": 1 , \"paper\": -1 ,\"scissor\": 0}\n",
        "reversedict = {1:\"rock\",-1:\"paper\",0:\"scissor\"}\n",
        "\n",
        "print(\"computer choice : \",reversedict[computer])\n",
        "print(\"your choice : \",yourchoice)\n",
        "\n",
        "if computer == dict[yourchoice]:\n",
        "    print(\"It's a draw\")\n",
        "else :\n",
        "  if dict[yourchoice] == 0 and computer == -1:\n",
        "    print(\"you win\")\n",
        "  elif dict[yourchoice] == -1 and computer == 1:\n",
        "    print(\"you win\")\n",
        "  elif dict[yourchoice] == -1 and computer == 1:\n",
        "    print(\"you win\")\n",
        "  elif dict[yourchoice] == 0 and computer == 1:\n",
        "    print(\"you lose\")\n",
        "  elif dict[yourchoice] == 1 and computer == -1:\n",
        "    print(\"you lose\")\n",
        "  elif dict[yourchoice] == -1 and computer == 0:\n",
        "    print(\"you lose\")\n",
        "\n"
      ]
    }
  ]
}